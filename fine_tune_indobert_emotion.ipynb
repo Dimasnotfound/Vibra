{
  "cells": [
    {
      "cell_type": "markdown",
      "id": "18ed51b0",
      "metadata": {
        "id": "18ed51b0"
      },
      "source": [
        "# Fine-tuning IndoBERT untuk Klasifikasi Emosi Twitter"
      ]
    },
    {
      "cell_type": "code",
      "execution_count": 1,
      "id": "847775f7",
      "metadata": {
        "id": "847775f7"
      },
      "outputs": [],
      "source": [
        "# =====================================\n",
        "# 1. Install library (sekali saja)\n",
        "# =====================================\n",
        "# !pip install transformers datasets scikit-learn pandas torch"
      ]
    },
    {
      "cell_type": "code",
      "execution_count": 2,
      "id": "7ed4e7c5",
      "metadata": {
        "id": "7ed4e7c5"
      },
      "outputs": [
        {
          "name": "stderr",
          "output_type": "stream",
          "text": [
            "d:\\laragon\\bin\\python\\python-3.12\\Lib\\site-packages\\tqdm\\auto.py:21: TqdmWarning: IProgress not found. Please update jupyter and ipywidgets. See https://ipywidgets.readthedocs.io/en/stable/user_install.html\n",
            "  from .autonotebook import tqdm as notebook_tqdm\n"
          ]
        },
        {
          "name": "stdout",
          "output_type": "stream",
          "text": [
            "WARNING:tensorflow:From d:\\laragon\\bin\\python\\python-3.12\\Lib\\site-packages\\tf_keras\\src\\losses.py:2976: The name tf.losses.sparse_softmax_cross_entropy is deprecated. Please use tf.compat.v1.losses.sparse_softmax_cross_entropy instead.\n",
            "\n"
          ]
        }
      ],
      "source": [
        "# =====================================\n",
        "# 2. Import library\n",
        "# =====================================\n",
        "import pandas as pd\n",
        "import torch\n",
        "import numpy as np\n",
        "from transformers import BertTokenizer, BertForSequenceClassification, Trainer, TrainingArguments\n",
        "from datasets import Dataset\n",
        "from sklearn.metrics import classification_report, accuracy_score, confusion_matrix"
      ]
    },
    {
      "cell_type": "code",
      "execution_count": 3,
      "id": "85a39b9c",
      "metadata": {
        "id": "85a39b9c"
      },
      "outputs": [],
      "source": [
        "# =====================================\n",
        "# 3. Load dataset IndoNLU\n",
        "# =====================================\n",
        "train_url = \"https://raw.githubusercontent.com/IndoNLP/indonlu/master/dataset/emot_emotion-twitter/train_preprocess.csv\"\n",
        "valid_url = \"https://raw.githubusercontent.com/IndoNLP/indonlu/master/dataset/emot_emotion-twitter/valid_preprocess.csv\"\n",
        "test_url  = \"https://raw.githubusercontent.com/IndoNLP/indonlu/master/dataset/emot_emotion-twitter/test_preprocess.csv\"\n",
        "\n",
        "train_df = pd.read_csv(train_url)\n",
        "valid_df = pd.read_csv(valid_url)\n",
        "test_df  = pd.read_csv(test_url)"
      ]
    },
    {
      "cell_type": "code",
      "execution_count": 4,
      "id": "a0P1Mk14O4Yl",
      "metadata": {
        "colab": {
          "base_uri": "https://localhost:8080/"
        },
        "id": "a0P1Mk14O4Yl",
        "outputId": "72a253c6-f59e-4790-fae4-13a5782ba1c7"
      },
      "outputs": [
        {
          "name": "stdout",
          "output_type": "stream",
          "text": [
            "Meisa Putri Dataset:\n",
            "   label                                              tweet\n",
            "0  anger  Soal jln Jatibaru,polisi tdk bs GERTAK gubernu...\n",
            "1  anger  Sesama cewe lho (kayaknya), harusnya bisa lebi...\n",
            "2  happy  Kepingin gudeg mbarek Bu hj. Amad Foto dari go...\n",
            "3  anger  Jln Jatibaru,bagian dari wilayah Tn Abang.Peng...\n",
            "4  happy  Sharing pengalaman aja, kemarin jam 18.00 bata...\n",
            "Label unik: ['anger' 'happy' 'sadness' 'love' 'fear']\n"
          ]
        }
      ],
      "source": [
        "# ==========================================\n",
        "# 1. Load Dataset Meisa Putri (Github: meisaputri21)\n",
        "# ==========================================\n",
        "import pandas as pd\n",
        "\n",
        "url_meisa = \"https://raw.githubusercontent.com/meisaputri21/Indonesian-Twitter-Emotion-Dataset/master/Twitter_Emotion_Dataset.csv\"\n",
        "meisa_df = pd.read_csv(url_meisa)\n",
        "\n",
        "print(\"Meisa Putri Dataset:\")\n",
        "print(meisa_df.head())\n",
        "print(\"Label unik:\", meisa_df['label'].unique())\n"
      ]
    },
    {
      "cell_type": "code",
      "execution_count": 5,
      "id": "RBi5gJp0O5Nn",
      "metadata": {
        "colab": {
          "base_uri": "https://localhost:8080/"
        },
        "id": "RBi5gJp0O5Nn",
        "outputId": "9c5b13bc-e37e-42c8-9582-7f77f912f759"
      },
      "outputs": [
        {
          "name": "stdout",
          "output_type": "stream",
          "text": [
            "Ricco48 Dataset:\n",
            "                                               Tweet  Label\n",
            "0                        pagi2 udah di buat emosi :)  Anger\n",
            "1  kok stabilitas negara, memange 10 thn negara t...  Anger\n",
            "2                       dah lah emosi mulu liat emyu  Anger\n",
            "3  aib? bodoh benar! sebelum kata aib itu muncul,...  Anger\n",
            "4                            dih lu yg nyebelin bego  Anger\n",
            "Label unik: ['Anger' 'Fear' 'Joy' 'Neutral' 'Love' 'Sad']\n"
          ]
        }
      ],
      "source": [
        "# ==========================================\n",
        "# 2. Load Dataset Ricco48 (Gabungkan semua file, separator tab)\n",
        "# ==========================================\n",
        "import pandas as pd\n",
        "\n",
        "urls_ricco = [\n",
        "    \"https://raw.githubusercontent.com/Ricco48/Emotion-Dataset-from-Indonesian-Public-Opinion/main/Emotion%20Dataset%20from%20Indonesian%20Public%20Opinion/AngerData.csv\",\n",
        "    \"https://raw.githubusercontent.com/Ricco48/Emotion-Dataset-from-Indonesian-Public-Opinion/main/Emotion%20Dataset%20from%20Indonesian%20Public%20Opinion/FearData.csv\",\n",
        "    \"https://raw.githubusercontent.com/Ricco48/Emotion-Dataset-from-Indonesian-Public-Opinion/main/Emotion%20Dataset%20from%20Indonesian%20Public%20Opinion/JoyData.csv\",\n",
        "    \"https://raw.githubusercontent.com/Ricco48/Emotion-Dataset-from-Indonesian-Public-Opinion/main/Emotion%20Dataset%20from%20Indonesian%20Public%20Opinion/NeutralData.csv\",\n",
        "    \"https://raw.githubusercontent.com/Ricco48/Emotion-Dataset-from-Indonesian-Public-Opinion/main/Emotion%20Dataset%20from%20Indonesian%20Public%20Opinion/LoveData.csv\",\n",
        "    \"https://raw.githubusercontent.com/Ricco48/Emotion-Dataset-from-Indonesian-Public-Opinion/main/Emotion%20Dataset%20from%20Indonesian%20Public%20Opinion/SadData.csv\"\n",
        "]\n",
        "\n",
        "ricco_dfs = []\n",
        "for url in urls_ricco:\n",
        "    df = pd.read_csv(url, sep=\"\\t\")  # separator tab\n",
        "    ricco_dfs.append(df)\n",
        "\n",
        "ricco_df = pd.concat(ricco_dfs, ignore_index=True)\n",
        "# Rename kolom jadi konsisten\n",
        "print(\"Ricco48 Dataset:\")\n",
        "print(ricco_df.head())\n",
        "print(\"Label unik:\", ricco_df['Label'].unique())\n"
      ]
    },
    {
      "cell_type": "code",
      "execution_count": 6,
      "id": "VJPgXp6CRCq1",
      "metadata": {
        "id": "VJPgXp6CRCq1"
      },
      "outputs": [],
      "source": [
        "ricco_df = ricco_df.rename(columns={'Tweet': 'tweet', 'Label': 'label'})\n",
        "ricco_df['label'] = ricco_df['label'].str.lower()"
      ]
    },
    {
      "cell_type": "code",
      "execution_count": 7,
      "id": "GAxZ6ByruVHo",
      "metadata": {
        "colab": {
          "base_uri": "https://localhost:8080/",
          "height": 339
        },
        "id": "GAxZ6ByruVHo",
        "outputId": "0cfcf99c-aa47-47fc-bc96-76bb4364fe6c"
      },
      "outputs": [
        {
          "name": "stdout",
          "output_type": "stream",
          "text": [
            "Gerhardien Dataset:\n",
            "     label                                           sentence\n",
            "0  sadness  aku telah belajar bahwa bahkan ketika aku mera...\n",
            "1  sadness  aku tahu bagaimana rasanya menderita sakit dan...\n",
            "2  neutral  Ucapkan selamat tinggal pada vas defferens dan...\n",
            "3  neutral      Aku tak sabar menunggu Narratif ini berhenti.\n",
            "4  neutral  Aku meninggalkannya karena aku mencoba untuk m...\n",
            "Label unik: ['sadness' 'neutral' 'joy' 'anger']\n"
          ]
        }
      ],
      "source": [
        "# ==========================================\n",
        "# 3. Load /gerhardien/text-emotion-indonesia\n",
        "# ==========================================\n",
        "test_filtered_df = pd.read_csv(\"Dataset/test_filtered.csv\")\n",
        "train_filtered_df = pd.read_csv(\"Dataset/train_filtered.csv\")\n",
        "val_filtered_df = pd.read_csv(\"Dataset/val_filtered.csv\")\n",
        "\n",
        "gerhardien_df = pd.concat([train_filtered_df, val_filtered_df, test_filtered_df], ignore_index=True)\n",
        "print(\"Gerhardien Dataset:\")\n",
        "print(gerhardien_df.head())\n",
        "print(\"Label unik:\", gerhardien_df['label'].unique())\n",
        "# ==========================================\n"
      ]
    },
    {
      "cell_type": "code",
      "execution_count": 9,
      "id": "2d9c92a0",
      "metadata": {},
      "outputs": [
        {
          "name": "stdout",
          "output_type": "stream",
          "text": [
            "     label                                              tweet\n",
            "0  sadness  aku telah belajar bahwa bahkan ketika aku mera...\n",
            "1  sadness  aku tahu bagaimana rasanya menderita sakit dan...\n",
            "2  neutral  Ucapkan selamat tinggal pada vas defferens dan...\n",
            "3  neutral      Aku tak sabar menunggu Narratif ini berhenti.\n",
            "4  neutral  Aku meninggalkannya karena aku mencoba untuk m...\n"
          ]
        }
      ],
      "source": [
        "gerhardien_df = gerhardien_df.rename(columns={'sentence': 'tweet'})\n",
        "gerhardien_df['label'] = gerhardien_df['label'].str.lower()\n",
        "print(gerhardien_df.head())"
      ]
    },
    {
      "cell_type": "code",
      "execution_count": 10,
      "id": "TVP5y6AdO7og",
      "metadata": {
        "colab": {
          "base_uri": "https://localhost:8080/"
        },
        "id": "TVP5y6AdO7og",
        "outputId": "c505dfcb-6844-461b-82bc-5ce95958b593"
      },
      "outputs": [
        {
          "name": "stdout",
          "output_type": "stream",
          "text": [
            "Jumlah total data gabungan: (29991, 2)\n",
            "Contoh data:\n",
            "                                                   tweet    label\n",
            "13898                                kok sepi yakk tl gw  neutral\n",
            "12577                           alhamdulillah kabar baik  neutral\n",
            "21011  Aku sangat bersyukur karena merasa cemburu pad...    anger\n",
            "16962  aku hanya merasa ingin membicarakannya tapi ak...      joy\n",
            "27675     saya merasa begitu bersemangat tentang hal itu      joy\n",
            "28119  aku merasa cukup penuh harapan pagi ini bahwa ...      joy\n",
            "27725                           Aku merasa sangat letih.  sadness\n",
            "6657   Romantis buat aing itu ketika melakukan apa ya...     love\n",
            "7464   Aku pun boleh je nak jadi selfish, pemalas dan...    anger\n",
            "18516  saya think saya mungkin merasa sedikit menyesa...  sadness\n",
            "Label unik seluruh data: ['happy' 'anger' 'fear' 'sadness' 'love' 'joy' 'neutral' 'sad']\n"
          ]
        }
      ],
      "source": [
        "# ==========================================\n",
        "# 3. Standarisasi label & Gabungkan semua dataset (IndoNLU, Meisa, Ricco)\n",
        "# ==========================================\n",
        "# Standarisasi label ke lower case\n",
        "meisa_df['label'] = meisa_df['label'].str.lower()\n",
        "ricco_df['label'] = ricco_df['label'].str.lower()\n",
        "\n",
        "# Gabungkan dengan dataset IndoNLU yang sudah ada (asumsi: train_df, valid_df, test_df sudah di-load)\n",
        "# Kita hanya pakai kolom 'tweet' dan 'label'\n",
        "all_df = pd.concat([\n",
        "    train_df[['tweet', 'label']],\n",
        "    valid_df[['tweet', 'label']],\n",
        "    test_df[['tweet', 'label']],\n",
        "    meisa_df[['tweet', 'label']],\n",
        "    ricco_df[['tweet', 'label']],\n",
        "    gerhardien_df[['tweet', 'label']]\n",
        "], ignore_index=True)\n",
        "\n",
        "print(\"Jumlah total data gabungan:\", all_df.shape)\n",
        "print(\"Contoh data:\")\n",
        "print(all_df.sample(10))\n",
        "print(\"Label unik seluruh data:\", all_df['label'].unique())\n"
      ]
    },
    {
      "cell_type": "code",
      "execution_count": 11,
      "id": "bbb475c1",
      "metadata": {
        "colab": {
          "base_uri": "https://localhost:8080/"
        },
        "id": "bbb475c1",
        "outputId": "8d3008b1-933a-428d-8fcf-26008494f6ef"
      },
      "outputs": [
        {
          "name": "stdout",
          "output_type": "stream",
          "text": [
            "Dataset({\n",
            "    features: ['tweet', 'label'],\n",
            "    num_rows: 29991\n",
            "})\n"
          ]
        }
      ],
      "source": [
        "# ==========================================\n",
        "# 4. Encoding Label pada Dataset Gabungan\n",
        "# ==========================================\n",
        "label_list = sorted(all_df['label'].unique())\n",
        "label2id = {label: idx for idx, label in enumerate(label_list)}\n",
        "id2label = {idx: label for label, idx in label2id.items()}\n",
        "\n",
        "all_df['label'] = all_df['label'].map(label2id)\n",
        "\n",
        "# Konversi ke HuggingFace Dataset\n",
        "from datasets import Dataset\n",
        "dataset_full = Dataset.from_pandas(all_df[['tweet', 'label']])\n",
        "\n",
        "print(dataset_full)"
      ]
    },
    {
      "cell_type": "code",
      "execution_count": 12,
      "id": "e18a83ff",
      "metadata": {
        "colab": {
          "base_uri": "https://localhost:8080/"
        },
        "id": "e18a83ff",
        "outputId": "9dbb4603-58ab-4929-82b5-734a83734e37"
      },
      "outputs": [
        {
          "name": "stdout",
          "output_type": "stream",
          "text": [
            "Total data: 29991\n",
            "Train: 23992, Validasi: 2999, Test: 3000\n",
            "Distribusi label train:\n",
            " label\n",
            "7    0.208194\n",
            "3    0.202484\n",
            "0    0.183061\n",
            "5    0.163513\n",
            "1    0.073650\n",
            "4    0.067814\n",
            "2    0.067814\n",
            "6    0.033469\n",
            "Name: proportion, dtype: float64\n",
            "Distribusi label valid:\n",
            " label\n",
            "7    0.208069\n",
            "3    0.202401\n",
            "0    0.183061\n",
            "5    0.163721\n",
            "1    0.073691\n",
            "4    0.068023\n",
            "2    0.067689\n",
            "6    0.033344\n",
            "Name: proportion, dtype: float64\n",
            "Distribusi label test:\n",
            " label\n",
            "7    0.208333\n",
            "3    0.202333\n",
            "0    0.183000\n",
            "5    0.163667\n",
            "1    0.073667\n",
            "2    0.068000\n",
            "4    0.067667\n",
            "6    0.033333\n",
            "Name: proportion, dtype: float64\n"
          ]
        }
      ],
      "source": [
        "# ==========================================\n",
        "# Split Dataset Gabungan Menjadi Train, Valid, dan Test (Stratified)\n",
        "# ==========================================\n",
        "from sklearn.model_selection import train_test_split\n",
        "\n",
        "# Misal: dataframe hasil gabungan semua sumber adalah all_df\n",
        "# pastikan kolomnya: 'tweet' dan 'label' (dalam bentuk angka, bukan string)\n",
        "# Jika label masih string, pastikan lakukan mapping label2id terlebih dahulu!\n",
        "\n",
        "# Split train+valid vs test (90% : 10%)\n",
        "df_train_valid, df_test = train_test_split(\n",
        "    all_df,\n",
        "    test_size=0.10,\n",
        "    stratify=all_df['label'],\n",
        "    random_state=42\n",
        ")\n",
        "\n",
        "# Split train vs valid dari train+valid (80% train, 10% valid, 10% test total)\n",
        "df_train, df_valid = train_test_split(\n",
        "    df_train_valid,\n",
        "    test_size=0.1111,   # 0.1111 x 0.90 ≈ 0.10 dari seluruh data\n",
        "    stratify=df_train_valid['label'],\n",
        "    random_state=42\n",
        ")\n",
        "\n",
        "print(f\"Total data: {len(all_df)}\")\n",
        "print(f\"Train: {len(df_train)}, Validasi: {len(df_valid)}, Test: {len(df_test)}\")\n",
        "\n",
        "# Jika ingin langsung convert ke HuggingFace Dataset:\n",
        "from datasets import Dataset\n",
        "\n",
        "train_dataset = Dataset.from_pandas(df_train.reset_index(drop=True))\n",
        "valid_dataset = Dataset.from_pandas(df_valid.reset_index(drop=True))\n",
        "test_dataset  = Dataset.from_pandas(df_test.reset_index(drop=True))\n",
        "\n",
        "# Cek distribusi label pada masing-masing split\n",
        "print(\"Distribusi label train:\\n\", df_train['label'].value_counts(normalize=True))\n",
        "print(\"Distribusi label valid:\\n\", df_valid['label'].value_counts(normalize=True))\n",
        "print(\"Distribusi label test:\\n\", df_test['label'].value_counts(normalize=True))\n"
      ]
    },
    {
      "cell_type": "code",
      "execution_count": 14,
      "id": "f61ccdd4",
      "metadata": {
        "colab": {
          "base_uri": "https://localhost:8080/"
        },
        "id": "f61ccdd4",
        "outputId": "f7d6bed7-29db-45cc-c6a3-3e04792b62f8"
      },
      "outputs": [
        {
          "ename": "NameError",
          "evalue": "name 'init_empty_weights' is not defined",
          "output_type": "error",
          "traceback": [
            "\u001b[31m---------------------------------------------------------------------------\u001b[39m",
            "\u001b[31mNameError\u001b[39m                                 Traceback (most recent call last)",
            "\u001b[36mCell\u001b[39m\u001b[36m \u001b[39m\u001b[32mIn[14]\u001b[39m\u001b[32m, line 17\u001b[39m\n\u001b[32m     14\u001b[39m model_name = \u001b[33m\"\u001b[39m\u001b[33mindobenchmark/indobert-base-p1\u001b[39m\u001b[33m\"\u001b[39m\n\u001b[32m     16\u001b[39m tokenizer = BertTokenizer.from_pretrained(model_name)\n\u001b[32m---> \u001b[39m\u001b[32m17\u001b[39m model = \u001b[43mBertForSequenceClassification\u001b[49m\u001b[43m.\u001b[49m\u001b[43mfrom_pretrained\u001b[49m\u001b[43m(\u001b[49m\n\u001b[32m     18\u001b[39m \u001b[43m    \u001b[49m\u001b[43mmodel_name\u001b[49m\u001b[43m,\u001b[49m\n\u001b[32m     19\u001b[39m \u001b[43m    \u001b[49m\u001b[43mnum_labels\u001b[49m\u001b[43m=\u001b[49m\u001b[38;5;28;43mlen\u001b[39;49m\u001b[43m(\u001b[49m\u001b[43mlabel_list\u001b[49m\u001b[43m)\u001b[49m\u001b[43m,\u001b[49m\n\u001b[32m     20\u001b[39m \u001b[43m    \u001b[49m\u001b[43mid2label\u001b[49m\u001b[43m=\u001b[49m\u001b[43mid2label\u001b[49m\u001b[43m,\u001b[49m\n\u001b[32m     21\u001b[39m \u001b[43m    \u001b[49m\u001b[43mlabel2id\u001b[49m\u001b[43m=\u001b[49m\u001b[43mlabel2id\u001b[49m\n\u001b[32m     22\u001b[39m \u001b[43m)\u001b[49m\n",
            "\u001b[36mFile \u001b[39m\u001b[32md:\\laragon\\bin\\python\\python-3.12\\Lib\\site-packages\\transformers\\modeling_utils.py:279\u001b[39m, in \u001b[36mrestore_default_torch_dtype.<locals>._wrapper\u001b[39m\u001b[34m(*args, **kwargs)\u001b[39m\n\u001b[32m    277\u001b[39m old_dtype = torch.get_default_dtype()\n\u001b[32m    278\u001b[39m \u001b[38;5;28;01mtry\u001b[39;00m:\n\u001b[32m--> \u001b[39m\u001b[32m279\u001b[39m     \u001b[38;5;28;01mreturn\u001b[39;00m \u001b[43mfunc\u001b[49m\u001b[43m(\u001b[49m\u001b[43m*\u001b[49m\u001b[43margs\u001b[49m\u001b[43m,\u001b[49m\u001b[43m \u001b[49m\u001b[43m*\u001b[49m\u001b[43m*\u001b[49m\u001b[43mkwargs\u001b[49m\u001b[43m)\u001b[49m\n\u001b[32m    280\u001b[39m \u001b[38;5;28;01mfinally\u001b[39;00m:\n\u001b[32m    281\u001b[39m     torch.set_default_dtype(old_dtype)\n",
            "\u001b[36mFile \u001b[39m\u001b[32md:\\laragon\\bin\\python\\python-3.12\\Lib\\site-packages\\transformers\\modeling_utils.py:4333\u001b[39m, in \u001b[36mPreTrainedModel.from_pretrained\u001b[39m\u001b[34m(cls, pretrained_model_name_or_path, config, cache_dir, ignore_mismatched_sizes, force_download, local_files_only, token, revision, use_safetensors, weights_only, *model_args, **kwargs)\u001b[39m\n\u001b[32m   4330\u001b[39m config.name_or_path = pretrained_model_name_or_path\n\u001b[32m   4332\u001b[39m \u001b[38;5;66;03m# Instantiate model.\u001b[39;00m\n\u001b[32m-> \u001b[39m\u001b[32m4333\u001b[39m model_init_context = \u001b[38;5;28;43mcls\u001b[39;49m\u001b[43m.\u001b[49m\u001b[43mget_init_context\u001b[49m\u001b[43m(\u001b[49m\u001b[43mis_quantized\u001b[49m\u001b[43m,\u001b[49m\u001b[43m \u001b[49m\u001b[43m_is_ds_init_called\u001b[49m\u001b[43m)\u001b[49m\n\u001b[32m   4335\u001b[39m config = copy.deepcopy(config)  \u001b[38;5;66;03m# We do not want to modify the config inplace in from_pretrained.\u001b[39;00m\n\u001b[32m   4336\u001b[39m \u001b[38;5;28;01mif\u001b[39;00m \u001b[38;5;129;01mnot\u001b[39;00m \u001b[38;5;28mgetattr\u001b[39m(config, \u001b[33m\"\u001b[39m\u001b[33m_attn_implementation_autoset\u001b[39m\u001b[33m\"\u001b[39m, \u001b[38;5;28;01mFalse\u001b[39;00m):\n",
            "\u001b[36mFile \u001b[39m\u001b[32md:\\laragon\\bin\\python\\python-3.12\\Lib\\site-packages\\transformers\\modeling_utils.py:3736\u001b[39m, in \u001b[36mPreTrainedModel.get_init_context\u001b[39m\u001b[34m(cls, is_quantized, _is_ds_init_called)\u001b[39m\n\u001b[32m   3734\u001b[39m         init_contexts.append(set_quantized_state())\n\u001b[32m   3735\u001b[39m \u001b[38;5;28;01melse\u001b[39;00m:\n\u001b[32m-> \u001b[39m\u001b[32m3736\u001b[39m     init_contexts = [no_init_weights(), \u001b[43minit_empty_weights\u001b[49m()]\n\u001b[32m   3738\u001b[39m \u001b[38;5;28;01mreturn\u001b[39;00m init_contexts\n",
            "\u001b[31mNameError\u001b[39m: name 'init_empty_weights' is not defined"
          ]
        }
      ],
      "source": [
        "# =====================================\n",
        "# 6. Load tokenizer & model dari lokal\n",
        "# =====================================\n",
        "# model_path = \"./models/indobert-base-p1\"\n",
        "\n",
        "# tokenizer = BertTokenizer.from_pretrained(model_path)\n",
        "# model = BertForSequenceClassification.from_pretrained(\n",
        "#     model_path,\n",
        "#     num_labels=len(label_list),\n",
        "#     id2label=id2label,\n",
        "#     label2id=label2id\n",
        "# )\n",
        "\n",
        "model_name = \"indobenchmark/indobert-base-p1\"\n",
        "\n",
        "tokenizer = BertTokenizer.from_pretrained(model_name)\n",
        "model = BertForSequenceClassification.from_pretrained(\n",
        "    model_name,\n",
        "    num_labels=len(label_list),\n",
        "    id2label=id2label,\n",
        "    label2id=label2id\n",
        ")"
      ]
    },
    {
      "cell_type": "code",
      "execution_count": null,
      "id": "9beb8eeb",
      "metadata": {
        "colab": {
          "base_uri": "https://localhost:8080/",
          "height": 148,
          "referenced_widgets": [
            "fd9eacebcd0f413e93f92dad037a3b80",
            "5b861b1309b1442e86a6e52f88ac49af",
            "f6f091eb01d94046a72632f83f0e068e",
            "ba6cdc7c275b4af9abad6c4c5465c5ee",
            "4e2e98774427402ea42c8102017380fd",
            "34d4d01f0c814de3adc2e81e8aa8cbd8",
            "d03262d326264dc3af5245f04fe777ea",
            "9e45e07dcb4d4e7983c6d5b3009e6c5e",
            "07f413f14bba44baaa1b610da056a564",
            "378119367f5d4755a6e44db50a610eeb",
            "1a5ac9826a75487a8d51b8b8256392b8",
            "836081b170a94b299c9313eb90a276eb",
            "cca4f877e3604c11a94d026198be1c79",
            "845249ba70594613bd7ad43112325424",
            "76511c3a25fc4254ba07a113044018f5",
            "040b88ecfc854484b10c6d9ca7ae6779",
            "bdee99e0c40b4dd0ae393cd845352d17",
            "6d19f0e26b714549ae123db8deba4158",
            "57694f0e45744634808d883f19fa6497",
            "bceb23e2dc0d4d93aa2f74913f8fe0f0",
            "3aab884f17ce44fb91dc1dadc0d17baa",
            "3ff638adf8b64acf967152bc55c0a1f7",
            "3f2a36e373c54d1386516c71326b50d6",
            "7e1b790f81b247899c1db990ce6e4a7e",
            "23061b26b79b4ba692ced23c732d911c",
            "f4827ac271174f499bd1c1623a598db9",
            "7215fb84018849d9a0c76af0b631ed98",
            "8f2515a7b90541129911bd58d13e7e01",
            "a712b5eca35645d6949146c9fa435a06",
            "8eefe155944342918c8f56c0935421bb",
            "d6c739b6c3ca4362a910661db770427d",
            "44a058ae2fe244a0bbdc34df55f93fb2",
            "b9daa3369eb84e99a39a84a8b2368b5e"
          ]
        },
        "id": "9beb8eeb",
        "outputId": "2f85d4a5-3cb5-460c-ae51-b3f76c1965d4"
      },
      "outputs": [
        {
          "data": {
            "application/vnd.jupyter.widget-view+json": {
              "model_id": "fd9eacebcd0f413e93f92dad037a3b80",
              "version_major": 2,
              "version_minor": 0
            },
            "text/plain": [
              "Map:   0%|          | 0/12705 [00:00<?, ? examples/s]"
            ]
          },
          "metadata": {},
          "output_type": "display_data"
        },
        {
          "name": "stderr",
          "output_type": "stream",
          "text": [
            "Asking to pad to max_length but no maximum length is provided and the model has no predefined maximum length. Default to no padding.\n",
            "Asking to truncate to max_length but no maximum length is provided and the model has no predefined maximum length. Default to no truncation.\n"
          ]
        },
        {
          "data": {
            "application/vnd.jupyter.widget-view+json": {
              "model_id": "836081b170a94b299c9313eb90a276eb",
              "version_major": 2,
              "version_minor": 0
            },
            "text/plain": [
              "Map:   0%|          | 0/1588 [00:00<?, ? examples/s]"
            ]
          },
          "metadata": {},
          "output_type": "display_data"
        },
        {
          "data": {
            "application/vnd.jupyter.widget-view+json": {
              "model_id": "3f2a36e373c54d1386516c71326b50d6",
              "version_major": 2,
              "version_minor": 0
            },
            "text/plain": [
              "Map:   0%|          | 0/1589 [00:00<?, ? examples/s]"
            ]
          },
          "metadata": {},
          "output_type": "display_data"
        }
      ],
      "source": [
        "# =====================================\n",
        "# 7. Tokenisasi\n",
        "# =====================================\n",
        "def tokenize(batch):\n",
        "    return tokenizer(batch['tweet'], padding=\"max_length\", truncation=True)\n",
        "\n",
        "train_dataset = train_dataset.map(tokenize, batched=True)\n",
        "valid_dataset = valid_dataset.map(tokenize, batched=True)\n",
        "test_dataset  = test_dataset.map(tokenize, batched=True)"
      ]
    },
    {
      "cell_type": "code",
      "execution_count": null,
      "id": "ee1e2024",
      "metadata": {
        "colab": {
          "base_uri": "https://localhost:8080/"
        },
        "id": "ee1e2024",
        "outputId": "4f280576-e033-4b82-cc04-82f84c03cf5a"
      },
      "outputs": [
        {
          "name": "stderr",
          "output_type": "stream",
          "text": [
            "<ipython-input-52-150475583>:26: FutureWarning: `tokenizer` is deprecated and will be removed in version 5.0.0 for `Trainer.__init__`. Use `processing_class` instead.\n",
            "  trainer = Trainer(\n"
          ]
        }
      ],
      "source": [
        "# =====================================\n",
        "# 8. TrainingArguments & Trainer\n",
        "# =====================================\n",
        "def compute_metrics(eval_pred):\n",
        "    logits, labels = eval_pred\n",
        "    predictions = np.argmax(logits, axis=-1)\n",
        "    return {\n",
        "        \"accuracy\": accuracy_score(labels, predictions)\n",
        "    }\n",
        "\n",
        "training_args = TrainingArguments(\n",
        "    output_dir=\"./results\",\n",
        "    do_train=True,\n",
        "    do_eval=True,\n",
        "    num_train_epochs=3,\n",
        "    per_device_train_batch_size=16,\n",
        "    per_device_eval_batch_size=16,\n",
        "    logging_dir='./logs',\n",
        "    logging_steps=10,\n",
        "    eval_strategy=\"epoch\",\n",
        "    save_strategy=\"epoch\",\n",
        "    load_best_model_at_end=True,\n",
        "    metric_for_best_model=\"accuracy\"\n",
        ")\n",
        "\n",
        "trainer = Trainer(\n",
        "    model=model,\n",
        "    args=training_args,\n",
        "    train_dataset=train_dataset,\n",
        "    eval_dataset=valid_dataset,\n",
        "    tokenizer=tokenizer,\n",
        "    compute_metrics=compute_metrics\n",
        ")"
      ]
    },
    {
      "cell_type": "code",
      "execution_count": null,
      "id": "682cbb18",
      "metadata": {
        "colab": {
          "base_uri": "https://localhost:8080/",
          "height": 204
        },
        "id": "682cbb18",
        "outputId": "72e1991c-12c4-4721-8211-05bb57fe8a7e"
      },
      "outputs": [
        {
          "data": {
            "text/html": [
              "\n",
              "    <div>\n",
              "      \n",
              "      <progress value='2385' max='2385' style='width:300px; height:20px; vertical-align: middle;'></progress>\n",
              "      [2385/2385 10:08, Epoch 3/3]\n",
              "    </div>\n",
              "    <table border=\"1\" class=\"dataframe\">\n",
              "  <thead>\n",
              " <tr style=\"text-align: left;\">\n",
              "      <th>Epoch</th>\n",
              "      <th>Training Loss</th>\n",
              "      <th>Validation Loss</th>\n",
              "      <th>Accuracy</th>\n",
              "    </tr>\n",
              "  </thead>\n",
              "  <tbody>\n",
              "    <tr>\n",
              "      <td>1</td>\n",
              "      <td>0.051100</td>\n",
              "      <td>1.119224</td>\n",
              "      <td>0.841940</td>\n",
              "    </tr>\n",
              "    <tr>\n",
              "      <td>2</td>\n",
              "      <td>0.038600</td>\n",
              "      <td>1.115602</td>\n",
              "      <td>0.840050</td>\n",
              "    </tr>\n",
              "    <tr>\n",
              "      <td>3</td>\n",
              "      <td>0.000300</td>\n",
              "      <td>1.236431</td>\n",
              "      <td>0.840680</td>\n",
              "    </tr>\n",
              "  </tbody>\n",
              "</table><p>"
            ],
            "text/plain": [
              "<IPython.core.display.HTML object>"
            ]
          },
          "metadata": {},
          "output_type": "display_data"
        },
        {
          "data": {
            "text/plain": [
              "TrainOutput(global_step=2385, training_loss=0.05849994723187209, metrics={'train_runtime': 608.291, 'train_samples_per_second': 62.659, 'train_steps_per_second': 3.921, 'total_flos': 1283172837054864.0, 'train_loss': 0.05849994723187209, 'epoch': 3.0})"
            ]
          },
          "execution_count": 53,
          "metadata": {},
          "output_type": "execute_result"
        }
      ],
      "source": [
        "# =====================================\n",
        "# 9. Training\n",
        "# =====================================\n",
        "trainer.train()"
      ]
    },
    {
      "cell_type": "code",
      "execution_count": null,
      "id": "fabac03e",
      "metadata": {
        "colab": {
          "base_uri": "https://localhost:8080/",
          "height": 885
        },
        "id": "fabac03e",
        "outputId": "1ac164d7-be26-4e02-c95c-67b2e0dc44ec"
      },
      "outputs": [
        {
          "data": {
            "text/html": [],
            "text/plain": [
              "<IPython.core.display.HTML object>"
            ]
          },
          "metadata": {},
          "output_type": "display_data"
        },
        {
          "name": "stdout",
          "output_type": "stream",
          "text": [
            "=== Classification Report ===\n",
            "              precision    recall  f1-score   support\n",
            "\n",
            "       anger       0.84      0.94      0.89       333\n",
            "        fear       0.92      0.88      0.90       221\n",
            "       happy       0.87      0.95      0.90       204\n",
            "         joy       0.85      0.73      0.79       128\n",
            "        love       0.84      0.89      0.86       204\n",
            "     neutral       0.71      0.65      0.68       200\n",
            "         sad       0.86      0.74      0.80       100\n",
            "     sadness       0.93      0.87      0.90       199\n",
            "\n",
            "    accuracy                           0.85      1589\n",
            "   macro avg       0.85      0.83      0.84      1589\n",
            "weighted avg       0.85      0.85      0.85      1589\n",
            "\n"
          ]
        },
        {
          "data": {
            "image/png": "[encoded data removed]",
            "text/plain": [
              "<Figure size 700x600 with 2 Axes>"
            ]
          },
          "metadata": {},
          "output_type": "display_data"
        }
      ],
      "source": [
        "# =====================================\n",
        "# 10. Evaluasi Model\n",
        "# =====================================\n",
        "import numpy as np\n",
        "from sklearn.metrics import classification_report, confusion_matrix\n",
        "import matplotlib.pyplot as plt\n",
        "import seaborn as sns\n",
        "\n",
        "# Prediksi model\n",
        "outputs = trainer.predict(test_dataset)\n",
        "preds = np.argmax(outputs.predictions, axis=-1)\n",
        "\n",
        "# Ambil label sebenarnya dari test_dataset\n",
        "# Jika test_dataset adalah HuggingFace Dataset\n",
        "y_true = np.array(test_dataset['label'])\n",
        "\n",
        "# Tampilkan classification report\n",
        "print(\"=== Classification Report ===\")\n",
        "print(classification_report(y_true, preds, target_names=label_list))\n",
        "\n",
        "# Plot Confusion Matrix\n",
        "cm = confusion_matrix(y_true, preds)\n",
        "plt.figure(figsize=(7, 6))\n",
        "sns.heatmap(cm, annot=True, fmt='d', xticklabels=label_list, yticklabels=label_list, cmap='Blues')\n",
        "plt.xlabel(\"Predicted\")\n",
        "plt.ylabel(\"Actual\")\n",
        "plt.title(\"Confusion Matrix\")\n",
        "plt.tight_layout()\n",
        "plt.show()\n"
      ]
    },
    {
      "cell_type": "code",
      "execution_count": null,
      "id": "b5e82e7b",
      "metadata": {
        "colab": {
          "base_uri": "https://localhost:8080/"
        },
        "id": "b5e82e7b",
        "outputId": "b3a1cb5d-3051-48f4-fa34-623372b9e620"
      },
      "outputs": [
        {
          "name": "stdout",
          "output_type": "stream",
          "text": [
            "Prediksi emosi: sadness\n"
          ]
        }
      ],
      "source": [
        "# =====================================\n",
        "# 11. Fungsi Deteksi Emosi (inference)\n",
        "# =====================================\n",
        "def detect_emotion(text: str):\n",
        "    # Tentukan device yang digunakan (GPU jika ada, fallback ke CPU)\n",
        "    device = torch.device(\"cuda\" if torch.cuda.is_available() else \"cpu\")\n",
        "\n",
        "    # Pindahkan model ke device\n",
        "    model.to(device)\n",
        "    model.eval()  # Pastikan dalam mode evaluasi\n",
        "\n",
        "    # Tokenisasi dan pindahkan input ke device\n",
        "    inputs = tokenizer(text, return_tensors=\"pt\", padding=True, truncation=True).to(device)\n",
        "\n",
        "    with torch.no_grad():\n",
        "        outputs = model(**inputs)\n",
        "        pred_id = torch.argmax(outputs.logits, dim=1).item()\n",
        "\n",
        "    return id2label[pred_id]\n",
        "\n",
        "\n",
        "# Contoh penggunaan\n",
        "print(\"Prediksi emosi:\", detect_emotion(\"saya hari ini makan nasi\"))"
      ]
    },
    {
      "cell_type": "code",
      "execution_count": null,
      "id": "dtTP7wJIWwAN",
      "metadata": {
        "colab": {
          "base_uri": "https://localhost:8080/"
        },
        "id": "dtTP7wJIWwAN",
        "outputId": "0f4cf2fa-f14e-4f98-a064-99cf6404b045"
      },
      "outputs": [
        {
          "name": "stdout",
          "output_type": "stream",
          "text": [
            "Model, tokenizer, dan mapping label berhasil disimpan ke folder: ./emotion_model_v1\n"
          ]
        }
      ],
      "source": [
        "# =====================================\n",
        "# 12. Simpan Model & Tokenizer\n",
        "# =====================================\n",
        "output_dir = \"./emotion_model_v1\"  # bisa diganti sesuai keinginan\n",
        "\n",
        "# Simpan model\n",
        "model.save_pretrained(output_dir)\n",
        "\n",
        "# Simpan tokenizer\n",
        "tokenizer.save_pretrained(output_dir)\n",
        "\n",
        "# Simpan mapping label2id dan id2label (jika perlu, dalam format JSON)\n",
        "import json\n",
        "\n",
        "with open(f\"{output_dir}/label2id.json\", \"w\") as f:\n",
        "    json.dump(label2id, f)\n",
        "with open(f\"{output_dir}/id2label.json\", \"w\") as f:\n",
        "    json.dump(id2label, f)\n",
        "\n",
        "print(f\"Model, tokenizer, dan mapping label berhasil disimpan ke folder: {output_dir}\")\n"
      ]
    }
  ],
  "metadata": {
    "accelerator": "GPU",
    "colab": {
      "gpuType": "T4",
      "provenance": []
    },
    "kernelspec": {
      "display_name": "Python 3",
      "name": "python3"
    },
    "language_info": {
      "codemirror_mode": {
        "name": "ipython",
        "version": 3
      },
      "file_extension": ".py",
      "mimetype": "text/x-python",
      "name": "python",
      "nbconvert_exporter": "python",
      "pygments_lexer": "ipython3",
      "version": "3.12.6"
    },
    "widgets": {
      "application/vnd.jupyter.widget-state+json": {
        "040b88ecfc854484b10c6d9ca7ae6779": {
          "model_module": "@jupyter-widgets/base",
          "model_module_version": "1.2.0",
          "model_name": "LayoutModel",
          "state": {
            "_model_module": "@jupyter-widgets/base",
            "_model_module_version": "1.2.0",
            "_model_name": "LayoutModel",
            "_view_count": null,
            "_view_module": "@jupyter-widgets/base",
            "_view_module_version": "1.2.0",
            "_view_name": "LayoutView",
            "align_content": null,
            "align_items": null,
            "align_self": null,
            "border": null,
            "bottom": null,
            "display": null,
            "flex": null,
            "flex_flow": null,
            "grid_area": null,
            "grid_auto_columns": null,
            "grid_auto_flow": null,
            "grid_auto_rows": null,
            "grid_column": null,
            "grid_gap": null,
            "grid_row": null,
            "grid_template_areas": null,
            "grid_template_columns": null,
            "grid_template_rows": null,
            "height": null,
            "justify_content": null,
            "justify_items": null,
            "left": null,
            "margin": null,
            "max_height": null,
            "max_width": null,
            "min_height": null,
            "min_width": null,
            "object_fit": null,
            "object_position": null,
            "order": null,
            "overflow": null,
            "overflow_x": null,
            "overflow_y": null,
            "padding": null,
            "right": null,
            "top": null,
            "visibility": null,
            "width": null
          }
        },
        "07f413f14bba44baaa1b610da056a564": {
          "model_module": "@jupyter-widgets/controls",
          "model_module_version": "1.5.0",
          "model_name": "ProgressStyleModel",
          "state": {
            "_model_module": "@jupyter-widgets/controls",
            "_model_module_version": "1.5.0",
            "_model_name": "ProgressStyleModel",
            "_view_count": null,
            "_view_module": "@jupyter-widgets/base",
            "_view_module_version": "1.2.0",
            "_view_name": "StyleView",
            "bar_color": null,
            "description_width": ""
          }
        },
        "1a5ac9826a75487a8d51b8b8256392b8": {
          "model_module": "@jupyter-widgets/controls",
          "model_module_version": "1.5.0",
          "model_name": "DescriptionStyleModel",
          "state": {
            "_model_module": "@jupyter-widgets/controls",
            "_model_module_version": "1.5.0",
            "_model_name": "DescriptionStyleModel",
            "_view_count": null,
            "_view_module": "@jupyter-widgets/base",
            "_view_module_version": "1.2.0",
            "_view_name": "StyleView",
            "description_width": ""
          }
        },
        "23061b26b79b4ba692ced23c732d911c": {
          "model_module": "@jupyter-widgets/controls",
          "model_module_version": "1.5.0",
          "model_name": "FloatProgressModel",
          "state": {
            "_dom_classes": [],
            "_model_module": "@jupyter-widgets/controls",
            "_model_module_version": "1.5.0",
            "_model_name": "FloatProgressModel",
            "_view_count": null,
            "_view_module": "@jupyter-widgets/controls",
            "_view_module_version": "1.5.0",
            "_view_name": "ProgressView",
            "bar_style": "success",
            "description": "",
            "description_tooltip": null,
            "layout": "IPY_MODEL_8eefe155944342918c8f56c0935421bb",
            "max": 1589,
            "min": 0,
            "orientation": "horizontal",
            "style": "IPY_MODEL_d6c739b6c3ca4362a910661db770427d",
            "value": 1589
          }
        },
        "34d4d01f0c814de3adc2e81e8aa8cbd8": {
          "model_module": "@jupyter-widgets/base",
          "model_module_version": "1.2.0",
          "model_name": "LayoutModel",
          "state": {
            "_model_module": "@jupyter-widgets/base",
            "_model_module_version": "1.2.0",
            "_model_name": "LayoutModel",
            "_view_count": null,
            "_view_module": "@jupyter-widgets/base",
            "_view_module_version": "1.2.0",
            "_view_name": "LayoutView",
            "align_content": null,
            "align_items": null,
            "align_self": null,
            "border": null,
            "bottom": null,
            "display": null,
            "flex": null,
            "flex_flow": null,
            "grid_area": null,
            "grid_auto_columns": null,
            "grid_auto_flow": null,
            "grid_auto_rows": null,
            "grid_column": null,
            "grid_gap": null,
            "grid_row": null,
            "grid_template_areas": null,
            "grid_template_columns": null,
            "grid_template_rows": null,
            "height": null,
            "justify_content": null,
            "justify_items": null,
            "left": null,
            "margin": null,
            "max_height": null,
            "max_width": null,
            "min_height": null,
            "min_width": null,
            "object_fit": null,
            "object_position": null,
            "order": null,
            "overflow": null,
            "overflow_x": null,
            "overflow_y": null,
            "padding": null,
            "right": null,
            "top": null,
            "visibility": null,
            "width": null
          }
        },
        "378119367f5d4755a6e44db50a610eeb": {
          "model_module": "@jupyter-widgets/base",
          "model_module_version": "1.2.0",
          "model_name": "LayoutModel",
          "state": {
            "_model_module": "@jupyter-widgets/base",
            "_model_module_version": "1.2.0",
            "_model_name": "LayoutModel",
            "_view_count": null,
            "_view_module": "@jupyter-widgets/base",
            "_view_module_version": "1.2.0",
            "_view_name": "LayoutView",
            "align_content": null,
            "align_items": null,
            "align_self": null,
            "border": null,
            "bottom": null,
            "display": null,
            "flex": null,
            "flex_flow": null,
            "grid_area": null,
            "grid_auto_columns": null,
            "grid_auto_flow": null,
            "grid_auto_rows": null,
            "grid_column": null,
            "grid_gap": null,
            "grid_row": null,
            "grid_template_areas": null,
            "grid_template_columns": null,
            "grid_template_rows": null,
            "height": null,
            "justify_content": null,
            "justify_items": null,
            "left": null,
            "margin": null,
            "max_height": null,
            "max_width": null,
            "min_height": null,
            "min_width": null,
            "object_fit": null,
            "object_position": null,
            "order": null,
            "overflow": null,
            "overflow_x": null,
            "overflow_y": null,
            "padding": null,
            "right": null,
            "top": null,
            "visibility": null,
            "width": null
          }
        },
        "3aab884f17ce44fb91dc1dadc0d17baa": {
          "model_module": "@jupyter-widgets/base",
          "model_module_version": "1.2.0",
          "model_name": "LayoutModel",
          "state": {
            "_model_module": "@jupyter-widgets/base",
            "_model_module_version": "1.2.0",
            "_model_name": "LayoutModel",
            "_view_count": null,
            "_view_module": "@jupyter-widgets/base",
            "_view_module_version": "1.2.0",
            "_view_name": "LayoutView",
            "align_content": null,
            "align_items": null,
            "align_self": null,
            "border": null,
            "bottom": null,
            "display": null,
            "flex": null,
            "flex_flow": null,
            "grid_area": null,
            "grid_auto_columns": null,
            "grid_auto_flow": null,
            "grid_auto_rows": null,
            "grid_column": null,
            "grid_gap": null,
            "grid_row": null,
            "grid_template_areas": null,
            "grid_template_columns": null,
            "grid_template_rows": null,
            "height": null,
            "justify_content": null,
            "justify_items": null,
            "left": null,
            "margin": null,
            "max_height": null,
            "max_width": null,
            "min_height": null,
            "min_width": null,
            "object_fit": null,
            "object_position": null,
            "order": null,
            "overflow": null,
            "overflow_x": null,
            "overflow_y": null,
            "padding": null,
            "right": null,
            "top": null,
            "visibility": null,
            "width": null
          }
        },
        "3f2a36e373c54d1386516c71326b50d6": {
          "model_module": "@jupyter-widgets/controls",
          "model_module_version": "1.5.0",
          "model_name": "HBoxModel",
          "state": {
            "_dom_classes": [],
            "_model_module": "@jupyter-widgets/controls",
            "_model_module_version": "1.5.0",
            "_model_name": "HBoxModel",
            "_view_count": null,
            "_view_module": "@jupyter-widgets/controls",
            "_view_module_version": "1.5.0",
            "_view_name": "HBoxView",
            "box_style": "",
            "children": [
              "IPY_MODEL_7e1b790f81b247899c1db990ce6e4a7e",
              "IPY_MODEL_23061b26b79b4ba692ced23c732d911c",
              "IPY_MODEL_f4827ac271174f499bd1c1623a598db9"
            ],
            "layout": "IPY_MODEL_7215fb84018849d9a0c76af0b631ed98"
          }
        },
        "3ff638adf8b64acf967152bc55c0a1f7": {
          "model_module": "@jupyter-widgets/controls",
          "model_module_version": "1.5.0",
          "model_name": "DescriptionStyleModel",
          "state": {
            "_model_module": "@jupyter-widgets/controls",
            "_model_module_version": "1.5.0",
            "_model_name": "DescriptionStyleModel",
            "_view_count": null,
            "_view_module": "@jupyter-widgets/base",
            "_view_module_version": "1.2.0",
            "_view_name": "StyleView",
            "description_width": ""
          }
        },
        "44a058ae2fe244a0bbdc34df55f93fb2": {
          "model_module": "@jupyter-widgets/base",
          "model_module_version": "1.2.0",
          "model_name": "LayoutModel",
          "state": {
            "_model_module": "@jupyter-widgets/base",
            "_model_module_version": "1.2.0",
            "_model_name": "LayoutModel",
            "_view_count": null,
            "_view_module": "@jupyter-widgets/base",
            "_view_module_version": "1.2.0",
            "_view_name": "LayoutView",
            "align_content": null,
            "align_items": null,
            "align_self": null,
            "border": null,
            "bottom": null,
            "display": null,
            "flex": null,
            "flex_flow": null,
            "grid_area": null,
            "grid_auto_columns": null,
            "grid_auto_flow": null,
            "grid_auto_rows": null,
            "grid_column": null,
            "grid_gap": null,
            "grid_row": null,
            "grid_template_areas": null,
            "grid_template_columns": null,
            "grid_template_rows": null,
            "height": null,
            "justify_content": null,
            "justify_items": null,
            "left": null,
            "margin": null,
            "max_height": null,
            "max_width": null,
            "min_height": null,
            "min_width": null,
            "object_fit": null,
            "object_position": null,
            "order": null,
            "overflow": null,
            "overflow_x": null,
            "overflow_y": null,
            "padding": null,
            "right": null,
            "top": null,
            "visibility": null,
            "width": null
          }
        },
        "4e2e98774427402ea42c8102017380fd": {
          "model_module": "@jupyter-widgets/base",
          "model_module_version": "1.2.0",
          "model_name": "LayoutModel",
          "state": {
            "_model_module": "@jupyter-widgets/base",
            "_model_module_version": "1.2.0",
            "_model_name": "LayoutModel",
            "_view_count": null,
            "_view_module": "@jupyter-widgets/base",
            "_view_module_version": "1.2.0",
            "_view_name": "LayoutView",
            "align_content": null,
            "align_items": null,
            "align_self": null,
            "border": null,
            "bottom": null,
            "display": null,
            "flex": null,
            "flex_flow": null,
            "grid_area": null,
            "grid_auto_columns": null,
            "grid_auto_flow": null,
            "grid_auto_rows": null,
            "grid_column": null,
            "grid_gap": null,
            "grid_row": null,
            "grid_template_areas": null,
            "grid_template_columns": null,
            "grid_template_rows": null,
            "height": null,
            "justify_content": null,
            "justify_items": null,
            "left": null,
            "margin": null,
            "max_height": null,
            "max_width": null,
            "min_height": null,
            "min_width": null,
            "object_fit": null,
            "object_position": null,
            "order": null,
            "overflow": null,
            "overflow_x": null,
            "overflow_y": null,
            "padding": null,
            "right": null,
            "top": null,
            "visibility": null,
            "width": null
          }
        },
        "57694f0e45744634808d883f19fa6497": {
          "model_module": "@jupyter-widgets/base",
          "model_module_version": "1.2.0",
          "model_name": "LayoutModel",
          "state": {
            "_model_module": "@jupyter-widgets/base",
            "_model_module_version": "1.2.0",
            "_model_name": "LayoutModel",
            "_view_count": null,
            "_view_module": "@jupyter-widgets/base",
            "_view_module_version": "1.2.0",
            "_view_name": "LayoutView",
            "align_content": null,
            "align_items": null,
            "align_self": null,
            "border": null,
            "bottom": null,
            "display": null,
            "flex": null,
            "flex_flow": null,
            "grid_area": null,
            "grid_auto_columns": null,
            "grid_auto_flow": null,
            "grid_auto_rows": null,
            "grid_column": null,
            "grid_gap": null,
            "grid_row": null,
            "grid_template_areas": null,
            "grid_template_columns": null,
            "grid_template_rows": null,
            "height": null,
            "justify_content": null,
            "justify_items": null,
            "left": null,
            "margin": null,
            "max_height": null,
            "max_width": null,
            "min_height": null,
            "min_width": null,
            "object_fit": null,
            "object_position": null,
            "order": null,
            "overflow": null,
            "overflow_x": null,
            "overflow_y": null,
            "padding": null,
            "right": null,
            "top": null,
            "visibility": null,
            "width": null
          }
        },
        "5b861b1309b1442e86a6e52f88ac49af": {
          "model_module": "@jupyter-widgets/controls",
          "model_module_version": "1.5.0",
          "model_name": "HTMLModel",
          "state": {
            "_dom_classes": [],
            "_model_module": "@jupyter-widgets/controls",
            "_model_module_version": "1.5.0",
            "_model_name": "HTMLModel",
            "_view_count": null,
            "_view_module": "@jupyter-widgets/controls",
            "_view_module_version": "1.5.0",
            "_view_name": "HTMLView",
            "description": "",
            "description_tooltip": null,
            "layout": "IPY_MODEL_34d4d01f0c814de3adc2e81e8aa8cbd8",
            "placeholder": "​",
            "style": "IPY_MODEL_d03262d326264dc3af5245f04fe777ea",
            "value": "Map: 100%"
          }
        },
        "6d19f0e26b714549ae123db8deba4158": {
          "model_module": "@jupyter-widgets/controls",
          "model_module_version": "1.5.0",
          "model_name": "DescriptionStyleModel",
          "state": {
            "_model_module": "@jupyter-widgets/controls",
            "_model_module_version": "1.5.0",
            "_model_name": "DescriptionStyleModel",
            "_view_count": null,
            "_view_module": "@jupyter-widgets/base",
            "_view_module_version": "1.2.0",
            "_view_name": "StyleView",
            "description_width": ""
          }
        },
        "7215fb84018849d9a0c76af0b631ed98": {
          "model_module": "@jupyter-widgets/base",
          "model_module_version": "1.2.0",
          "model_name": "LayoutModel",
          "state": {
            "_model_module": "@jupyter-widgets/base",
            "_model_module_version": "1.2.0",
            "_model_name": "LayoutModel",
            "_view_count": null,
            "_view_module": "@jupyter-widgets/base",
            "_view_module_version": "1.2.0",
            "_view_name": "LayoutView",
            "align_content": null,
            "align_items": null,
            "align_self": null,
            "border": null,
            "bottom": null,
            "display": null,
            "flex": null,
            "flex_flow": null,
            "grid_area": null,
            "grid_auto_columns": null,
            "grid_auto_flow": null,
            "grid_auto_rows": null,
            "grid_column": null,
            "grid_gap": null,
            "grid_row": null,
            "grid_template_areas": null,
            "grid_template_columns": null,
            "grid_template_rows": null,
            "height": null,
            "justify_content": null,
            "justify_items": null,
            "left": null,
            "margin": null,
            "max_height": null,
            "max_width": null,
            "min_height": null,
            "min_width": null,
            "object_fit": null,
            "object_position": null,
            "order": null,
            "overflow": null,
            "overflow_x": null,
            "overflow_y": null,
            "padding": null,
            "right": null,
            "top": null,
            "visibility": null,
            "width": null
          }
        },
        "76511c3a25fc4254ba07a113044018f5": {
          "model_module": "@jupyter-widgets/controls",
          "model_module_version": "1.5.0",
          "model_name": "HTMLModel",
          "state": {
            "_dom_classes": [],
            "_model_module": "@jupyter-widgets/controls",
            "_model_module_version": "1.5.0",
            "_model_name": "HTMLModel",
            "_view_count": null,
            "_view_module": "@jupyter-widgets/controls",
            "_view_module_version": "1.5.0",
            "_view_name": "HTMLView",
            "description": "",
            "description_tooltip": null,
            "layout": "IPY_MODEL_3aab884f17ce44fb91dc1dadc0d17baa",
            "placeholder": "​",
            "style": "IPY_MODEL_3ff638adf8b64acf967152bc55c0a1f7",
            "value": " 1588/1588 [00:01&lt;00:00, 997.26 examples/s]"
          }
        },
        "7e1b790f81b247899c1db990ce6e4a7e": {
          "model_module": "@jupyter-widgets/controls",
          "model_module_version": "1.5.0",
          "model_name": "HTMLModel",
          "state": {
            "_dom_classes": [],
            "_model_module": "@jupyter-widgets/controls",
            "_model_module_version": "1.5.0",
            "_model_name": "HTMLModel",
            "_view_count": null,
            "_view_module": "@jupyter-widgets/controls",
            "_view_module_version": "1.5.0",
            "_view_name": "HTMLView",
            "description": "",
            "description_tooltip": null,
            "layout": "IPY_MODEL_8f2515a7b90541129911bd58d13e7e01",
            "placeholder": "​",
            "style": "IPY_MODEL_a712b5eca35645d6949146c9fa435a06",
            "value": "Map: 100%"
          }
        },
        "836081b170a94b299c9313eb90a276eb": {
          "model_module": "@jupyter-widgets/controls",
          "model_module_version": "1.5.0",
          "model_name": "HBoxModel",
          "state": {
            "_dom_classes": [],
            "_model_module": "@jupyter-widgets/controls",
            "_model_module_version": "1.5.0",
            "_model_name": "HBoxModel",
            "_view_count": null,
            "_view_module": "@jupyter-widgets/controls",
            "_view_module_version": "1.5.0",
            "_view_name": "HBoxView",
            "box_style": "",
            "children": [
              "IPY_MODEL_cca4f877e3604c11a94d026198be1c79",
              "IPY_MODEL_845249ba70594613bd7ad43112325424",
              "IPY_MODEL_76511c3a25fc4254ba07a113044018f5"
            ],
            "layout": "IPY_MODEL_040b88ecfc854484b10c6d9ca7ae6779"
          }
        },
        "845249ba70594613bd7ad43112325424": {
          "model_module": "@jupyter-widgets/controls",
          "model_module_version": "1.5.0",
          "model_name": "FloatProgressModel",
          "state": {
            "_dom_classes": [],
            "_model_module": "@jupyter-widgets/controls",
            "_model_module_version": "1.5.0",
            "_model_name": "FloatProgressModel",
            "_view_count": null,
            "_view_module": "@jupyter-widgets/controls",
            "_view_module_version": "1.5.0",
            "_view_name": "ProgressView",
            "bar_style": "success",
            "description": "",
            "description_tooltip": null,
            "layout": "IPY_MODEL_57694f0e45744634808d883f19fa6497",
            "max": 1588,
            "min": 0,
            "orientation": "horizontal",
            "style": "IPY_MODEL_bceb23e2dc0d4d93aa2f74913f8fe0f0",
            "value": 1588
          }
        },
        "8eefe155944342918c8f56c0935421bb": {
          "model_module": "@jupyter-widgets/base",
          "model_module_version": "1.2.0",
          "model_name": "LayoutModel",
          "state": {
            "_model_module": "@jupyter-widgets/base",
            "_model_module_version": "1.2.0",
            "_model_name": "LayoutModel",
            "_view_count": null,
            "_view_module": "@jupyter-widgets/base",
            "_view_module_version": "1.2.0",
            "_view_name": "LayoutView",
            "align_content": null,
            "align_items": null,
            "align_self": null,
            "border": null,
            "bottom": null,
            "display": null,
            "flex": null,
            "flex_flow": null,
            "grid_area": null,
            "grid_auto_columns": null,
            "grid_auto_flow": null,
            "grid_auto_rows": null,
            "grid_column": null,
            "grid_gap": null,
            "grid_row": null,
            "grid_template_areas": null,
            "grid_template_columns": null,
            "grid_template_rows": null,
            "height": null,
            "justify_content": null,
            "justify_items": null,
            "left": null,
            "margin": null,
            "max_height": null,
            "max_width": null,
            "min_height": null,
            "min_width": null,
            "object_fit": null,
            "object_position": null,
            "order": null,
            "overflow": null,
            "overflow_x": null,
            "overflow_y": null,
            "padding": null,
            "right": null,
            "top": null,
            "visibility": null,
            "width": null
          }
        },
        "8f2515a7b90541129911bd58d13e7e01": {
          "model_module": "@jupyter-widgets/base",
          "model_module_version": "1.2.0",
          "model_name": "LayoutModel",
          "state": {
            "_model_module": "@jupyter-widgets/base",
            "_model_module_version": "1.2.0",
            "_model_name": "LayoutModel",
            "_view_count": null,
            "_view_module": "@jupyter-widgets/base",
            "_view_module_version": "1.2.0",
            "_view_name": "LayoutView",
            "align_content": null,
            "align_items": null,
            "align_self": null,
            "border": null,
            "bottom": null,
            "display": null,
            "flex": null,
            "flex_flow": null,
            "grid_area": null,
            "grid_auto_columns": null,
            "grid_auto_flow": null,
            "grid_auto_rows": null,
            "grid_column": null,
            "grid_gap": null,
            "grid_row": null,
            "grid_template_areas": null,
            "grid_template_columns": null,
            "grid_template_rows": null,
            "height": null,
            "justify_content": null,
            "justify_items": null,
            "left": null,
            "margin": null,
            "max_height": null,
            "max_width": null,
            "min_height": null,
            "min_width": null,
            "object_fit": null,
            "object_position": null,
            "order": null,
            "overflow": null,
            "overflow_x": null,
            "overflow_y": null,
            "padding": null,
            "right": null,
            "top": null,
            "visibility": null,
            "width": null
          }
        },
        "9e45e07dcb4d4e7983c6d5b3009e6c5e": {
          "model_module": "@jupyter-widgets/base",
          "model_module_version": "1.2.0",
          "model_name": "LayoutModel",
          "state": {
            "_model_module": "@jupyter-widgets/base",
            "_model_module_version": "1.2.0",
            "_model_name": "LayoutModel",
            "_view_count": null,
            "_view_module": "@jupyter-widgets/base",
            "_view_module_version": "1.2.0",
            "_view_name": "LayoutView",
            "align_content": null,
            "align_items": null,
            "align_self": null,
            "border": null,
            "bottom": null,
            "display": null,
            "flex": null,
            "flex_flow": null,
            "grid_area": null,
            "grid_auto_columns": null,
            "grid_auto_flow": null,
            "grid_auto_rows": null,
            "grid_column": null,
            "grid_gap": null,
            "grid_row": null,
            "grid_template_areas": null,
            "grid_template_columns": null,
            "grid_template_rows": null,
            "height": null,
            "justify_content": null,
            "justify_items": null,
            "left": null,
            "margin": null,
            "max_height": null,
            "max_width": null,
            "min_height": null,
            "min_width": null,
            "object_fit": null,
            "object_position": null,
            "order": null,
            "overflow": null,
            "overflow_x": null,
            "overflow_y": null,
            "padding": null,
            "right": null,
            "top": null,
            "visibility": null,
            "width": null
          }
        },
        "a712b5eca35645d6949146c9fa435a06": {
          "model_module": "@jupyter-widgets/controls",
          "model_module_version": "1.5.0",
          "model_name": "DescriptionStyleModel",
          "state": {
            "_model_module": "@jupyter-widgets/controls",
            "_model_module_version": "1.5.0",
            "_model_name": "DescriptionStyleModel",
            "_view_count": null,
            "_view_module": "@jupyter-widgets/base",
            "_view_module_version": "1.2.0",
            "_view_name": "StyleView",
            "description_width": ""
          }
        },
        "b9daa3369eb84e99a39a84a8b2368b5e": {
          "model_module": "@jupyter-widgets/controls",
          "model_module_version": "1.5.0",
          "model_name": "DescriptionStyleModel",
          "state": {
            "_model_module": "@jupyter-widgets/controls",
            "_model_module_version": "1.5.0",
            "_model_name": "DescriptionStyleModel",
            "_view_count": null,
            "_view_module": "@jupyter-widgets/base",
            "_view_module_version": "1.2.0",
            "_view_name": "StyleView",
            "description_width": ""
          }
        },
        "ba6cdc7c275b4af9abad6c4c5465c5ee": {
          "model_module": "@jupyter-widgets/controls",
          "model_module_version": "1.5.0",
          "model_name": "HTMLModel",
          "state": {
            "_dom_classes": [],
            "_model_module": "@jupyter-widgets/controls",
            "_model_module_version": "1.5.0",
            "_model_name": "HTMLModel",
            "_view_count": null,
            "_view_module": "@jupyter-widgets/controls",
            "_view_module_version": "1.5.0",
            "_view_name": "HTMLView",
            "description": "",
            "description_tooltip": null,
            "layout": "IPY_MODEL_378119367f5d4755a6e44db50a610eeb",
            "placeholder": "​",
            "style": "IPY_MODEL_1a5ac9826a75487a8d51b8b8256392b8",
            "value": " 12705/12705 [00:15&lt;00:00, 913.81 examples/s]"
          }
        },
        "bceb23e2dc0d4d93aa2f74913f8fe0f0": {
          "model_module": "@jupyter-widgets/controls",
          "model_module_version": "1.5.0",
          "model_name": "ProgressStyleModel",
          "state": {
            "_model_module": "@jupyter-widgets/controls",
            "_model_module_version": "1.5.0",
            "_model_name": "ProgressStyleModel",
            "_view_count": null,
            "_view_module": "@jupyter-widgets/base",
            "_view_module_version": "1.2.0",
            "_view_name": "StyleView",
            "bar_color": null,
            "description_width": ""
          }
        },
        "bdee99e0c40b4dd0ae393cd845352d17": {
          "model_module": "@jupyter-widgets/base",
          "model_module_version": "1.2.0",
          "model_name": "LayoutModel",
          "state": {
            "_model_module": "@jupyter-widgets/base",
            "_model_module_version": "1.2.0",
            "_model_name": "LayoutModel",
            "_view_count": null,
            "_view_module": "@jupyter-widgets/base",
            "_view_module_version": "1.2.0",
            "_view_name": "LayoutView",
            "align_content": null,
            "align_items": null,
            "align_self": null,
            "border": null,
            "bottom": null,
            "display": null,
            "flex": null,
            "flex_flow": null,
            "grid_area": null,
            "grid_auto_columns": null,
            "grid_auto_flow": null,
            "grid_auto_rows": null,
            "grid_column": null,
            "grid_gap": null,
            "grid_row": null,
            "grid_template_areas": null,
            "grid_template_columns": null,
            "grid_template_rows": null,
            "height": null,
            "justify_content": null,
            "justify_items": null,
            "left": null,
            "margin": null,
            "max_height": null,
            "max_width": null,
            "min_height": null,
            "min_width": null,
            "object_fit": null,
            "object_position": null,
            "order": null,
            "overflow": null,
            "overflow_x": null,
            "overflow_y": null,
            "padding": null,
            "right": null,
            "top": null,
            "visibility": null,
            "width": null
          }
        },
        "cca4f877e3604c11a94d026198be1c79": {
          "model_module": "@jupyter-widgets/controls",
          "model_module_version": "1.5.0",
          "model_name": "HTMLModel",
          "state": {
            "_dom_classes": [],
            "_model_module": "@jupyter-widgets/controls",
            "_model_module_version": "1.5.0",
            "_model_name": "HTMLModel",
            "_view_count": null,
            "_view_module": "@jupyter-widgets/controls",
            "_view_module_version": "1.5.0",
            "_view_name": "HTMLView",
            "description": "",
            "description_tooltip": null,
            "layout": "IPY_MODEL_bdee99e0c40b4dd0ae393cd845352d17",
            "placeholder": "​",
            "style": "IPY_MODEL_6d19f0e26b714549ae123db8deba4158",
            "value": "Map: 100%"
          }
        },
        "d03262d326264dc3af5245f04fe777ea": {
          "model_module": "@jupyter-widgets/controls",
          "model_module_version": "1.5.0",
          "model_name": "DescriptionStyleModel",
          "state": {
            "_model_module": "@jupyter-widgets/controls",
            "_model_module_version": "1.5.0",
            "_model_name": "DescriptionStyleModel",
            "_view_count": null,
            "_view_module": "@jupyter-widgets/base",
            "_view_module_version": "1.2.0",
            "_view_name": "StyleView",
            "description_width": ""
          }
        },
        "d6c739b6c3ca4362a910661db770427d": {
          "model_module": "@jupyter-widgets/controls",
          "model_module_version": "1.5.0",
          "model_name": "ProgressStyleModel",
          "state": {
            "_model_module": "@jupyter-widgets/controls",
            "_model_module_version": "1.5.0",
            "_model_name": "ProgressStyleModel",
            "_view_count": null,
            "_view_module": "@jupyter-widgets/base",
            "_view_module_version": "1.2.0",
            "_view_name": "StyleView",
            "bar_color": null,
            "description_width": ""
          }
        },
        "f4827ac271174f499bd1c1623a598db9": {
          "model_module": "@jupyter-widgets/controls",
          "model_module_version": "1.5.0",
          "model_name": "HTMLModel",
          "state": {
            "_dom_classes": [],
            "_model_module": "@jupyter-widgets/controls",
            "_model_module_version": "1.5.0",
            "_model_name": "HTMLModel",
            "_view_count": null,
            "_view_module": "@jupyter-widgets/controls",
            "_view_module_version": "1.5.0",
            "_view_name": "HTMLView",
            "description": "",
            "description_tooltip": null,
            "layout": "IPY_MODEL_44a058ae2fe244a0bbdc34df55f93fb2",
            "placeholder": "​",
            "style": "IPY_MODEL_b9daa3369eb84e99a39a84a8b2368b5e",
            "value": " 1589/1589 [00:01&lt;00:00, 897.09 examples/s]"
          }
        },
        "f6f091eb01d94046a72632f83f0e068e": {
          "model_module": "@jupyter-widgets/controls",
          "model_module_version": "1.5.0",
          "model_name": "FloatProgressModel",
          "state": {
            "_dom_classes": [],
            "_model_module": "@jupyter-widgets/controls",
            "_model_module_version": "1.5.0",
            "_model_name": "FloatProgressModel",
            "_view_count": null,
            "_view_module": "@jupyter-widgets/controls",
            "_view_module_version": "1.5.0",
            "_view_name": "ProgressView",
            "bar_style": "success",
            "description": "",
            "description_tooltip": null,
            "layout": "IPY_MODEL_9e45e07dcb4d4e7983c6d5b3009e6c5e",
            "max": 12705,
            "min": 0,
            "orientation": "horizontal",
            "style": "IPY_MODEL_07f413f14bba44baaa1b610da056a564",
            "value": 12705
          }
        },
        "fd9eacebcd0f413e93f92dad037a3b80": {
          "model_module": "@jupyter-widgets/controls",
          "model_module_version": "1.5.0",
          "model_name": "HBoxModel",
          "state": {
            "_dom_classes": [],
            "_model_module": "@jupyter-widgets/controls",
            "_model_module_version": "1.5.0",
            "_model_name": "HBoxModel",
            "_view_count": null,
            "_view_module": "@jupyter-widgets/controls",
            "_view_module_version": "1.5.0",
            "_view_name": "HBoxView",
            "box_style": "",
            "children": [
              "IPY_MODEL_5b861b1309b1442e86a6e52f88ac49af",
              "IPY_MODEL_f6f091eb01d94046a72632f83f0e068e",
              "IPY_MODEL_ba6cdc7c275b4af9abad6c4c5465c5ee"
            ],
            "layout": "IPY_MODEL_4e2e98774427402ea42c8102017380fd"
          }
        }
      }
    }
  },
  "nbformat": 4,
  "nbformat_minor": 5
}
